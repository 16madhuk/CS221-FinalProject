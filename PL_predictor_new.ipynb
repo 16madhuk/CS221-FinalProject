{
 "cells": [
  {
   "cell_type": "code",
   "execution_count": 1,
   "metadata": {},
   "outputs": [
    {
     "name": "stderr",
     "output_type": "stream",
     "text": [
      "/anaconda3/envs/nlu/lib/python3.6/site-packages/sklearn/cross_validation.py:41: DeprecationWarning: This module was deprecated in version 0.18 in favor of the model_selection module into which all the refactored classes and functions are moved. Also note that the interface of the new CV iterators are different from that of this module. This module will be removed in 0.20.\n",
      "  \"This module will be removed in 0.20.\", DeprecationWarning)\n",
      "/anaconda3/envs/nlu/lib/python3.6/site-packages/h5py/__init__.py:36: FutureWarning: Conversion of the second argument of issubdtype from `float` to `np.floating` is deprecated. In future, it will be treated as `np.float64 == np.dtype(float).type`.\n",
      "  from ._conv import register_converters as _register_converters\n",
      "Using TensorFlow backend.\n"
     ]
    }
   ],
   "source": [
    "import xlrd\n",
    "import sklearn\n",
    "from sklearn.neural_network import MLPClassifier\n",
    "import numpy as np\n",
    "import os\n",
    "import scipy.stats\n",
    "from sklearn.linear_model import LogisticRegression\n",
    "from sklearn.datasets import make_classification\n",
    "from sklearn.metrics import classification_report\n",
    "from sklearn.cross_validation import train_test_split\n",
    "from sklearn.neural_network import BernoulliRBM\n",
    "from sklearn.neural_network import MLPClassifier\n",
    "from sklearn.ensemble import RandomForestClassifier\n",
    "from keras.models import load_model\n",
    "import tensorflow as tf\n",
    "import keras\n",
    "from keras.datasets import mnist\n",
    "from keras.models import Sequential\n",
    "from keras.layers import Dense, Dropout, Activation, BatchNormalization\n",
    "from keras import regularizers\n",
    "from keras import backend as K\n",
    "from keras import regularizers\n",
    "import numpy as np\n",
    "from collections import Counter\n",
    "from sklearn.linear_model import LogisticRegression\n",
    "import scipy.stats\n",
    "import random\n",
    "import tensorflow as tf\n",
    "from collections import defaultdict\n",
    "from scipy import stats\n",
    "import matplotlib.pyplot as plt \n",
    "from keras import optimizers\n",
    "import time"
   ]
  },
  {
   "cell_type": "code",
   "execution_count": 2,
   "metadata": {},
   "outputs": [],
   "source": [
    "# open the excel file\n",
    "loc = (\"Premier_League_Data.xlsx\")\n",
    "wb = xlrd.open_workbook(loc)"
   ]
  },
  {
   "cell_type": "code",
   "execution_count": 3,
   "metadata": {},
   "outputs": [],
   "source": [
    "num_parameters = 22\n",
    "num_teams = 20\n",
    "num_stats_sheets = 7\n",
    "num_total_sheets = 13"
   ]
  },
  {
   "cell_type": "code",
   "execution_count": 11,
   "metadata": {},
   "outputs": [
    {
     "ename": "TypeError",
     "evalue": "'Sheet' object does not support indexing",
     "output_type": "error",
     "traceback": [
      "\u001b[0;31m---------------------------------------------------------------------------\u001b[0m",
      "\u001b[0;31mTypeError\u001b[0m                                 Traceback (most recent call last)",
      "\u001b[0;32m<ipython-input-11-9068658c94a2>\u001b[0m in \u001b[0;36m<module>\u001b[0;34m()\u001b[0m\n\u001b[1;32m      4\u001b[0m \u001b[0;32mfor\u001b[0m \u001b[0mi\u001b[0m \u001b[0;32min\u001b[0m \u001b[0mrange\u001b[0m\u001b[0;34m(\u001b[0m\u001b[0;36m0\u001b[0m\u001b[0;34m,\u001b[0m \u001b[0mnum_stats_sheets\u001b[0m\u001b[0;34m)\u001b[0m\u001b[0;34m:\u001b[0m\u001b[0;34m\u001b[0m\u001b[0m\n\u001b[1;32m      5\u001b[0m     \u001b[0mstats_sheets\u001b[0m\u001b[0;34m.\u001b[0m\u001b[0mappend\u001b[0m\u001b[0;34m(\u001b[0m\u001b[0mwb\u001b[0m\u001b[0;34m.\u001b[0m\u001b[0msheet_by_index\u001b[0m\u001b[0;34m(\u001b[0m\u001b[0mi\u001b[0m\u001b[0;34m)\u001b[0m\u001b[0;34m)\u001b[0m\u001b[0;34m\u001b[0m\u001b[0m\n\u001b[0;32m----> 6\u001b[0;31m \u001b[0mprint\u001b[0m\u001b[0;34m(\u001b[0m\u001b[0mstats_sheets\u001b[0m\u001b[0;34m[\u001b[0m\u001b[0;36m0\u001b[0m\u001b[0;34m]\u001b[0m\u001b[0;34m[\u001b[0m\u001b[0;36m1\u001b[0m\u001b[0;34m]\u001b[0m\u001b[0;34m)\u001b[0m\u001b[0;34m\u001b[0m\u001b[0m\n\u001b[0m",
      "\u001b[0;31mTypeError\u001b[0m: 'Sheet' object does not support indexing"
     ]
    }
   ],
   "source": [
    "# create the sheets\n",
    "\n",
    "stats_sheets = []\n",
    "for i in range(0, num_stats_sheets):\n",
    "    stats_sheets.append(wb.sheet_by_index(i))\n"
   ]
  },
  {
   "cell_type": "code",
   "execution_count": 5,
   "metadata": {},
   "outputs": [],
   "source": [
    "stats_by_season = []\n",
    "teams_per_season = []\n",
    "promoted_per_season = []\n",
    "relegated_per_season = []"
   ]
  },
  {
   "cell_type": "code",
   "execution_count": 14,
   "metadata": {},
   "outputs": [
    {
     "name": "stdout",
     "output_type": "stream",
     "text": [
      "Manchester City\n",
      "Manchester United\n",
      "Tottenham Hotspur\n",
      "Chelsea\n",
      "Liverpool\n",
      "Arsenal\n",
      "Burnley\n",
      "Everton\n",
      "Leicester City\n",
      "Newcastle United\n",
      "AFC Bournemouth\n",
      "Crystal Palace\n",
      "Watford\n",
      "West Ham United\n",
      "Brighton and Hove Albion\n",
      "Huddersfield Town\n",
      "Swansea City\n",
      "Southampton\n",
      "Stoke City\n",
      "West Bromwich Albion\n"
     ]
    },
    {
     "ename": "IndexError",
     "evalue": "list index out of range",
     "output_type": "error",
     "traceback": [
      "\u001b[0;31m---------------------------------------------------------------------------\u001b[0m",
      "\u001b[0;31mIndexError\u001b[0m                                Traceback (most recent call last)",
      "\u001b[0;32m<ipython-input-14-1310d6ad6af0>\u001b[0m in \u001b[0;36m<module>\u001b[0;34m()\u001b[0m\n\u001b[1;32m     21\u001b[0m \u001b[0;34m\u001b[0m\u001b[0m\n\u001b[1;32m     22\u001b[0m \u001b[0;31m#     print(stats_she)\u001b[0m\u001b[0;34m\u001b[0m\u001b[0;34m\u001b[0m\u001b[0m\n\u001b[0;32m---> 23\u001b[0;31m     \u001b[0mpromoted_this_year\u001b[0m\u001b[0;34m.\u001b[0m\u001b[0mappend\u001b[0m\u001b[0;34m(\u001b[0m\u001b[0mstats_sheets\u001b[0m\u001b[0;34m[\u001b[0m\u001b[0mm\u001b[0m\u001b[0;34m]\u001b[0m\u001b[0;34m.\u001b[0m\u001b[0mcell_value\u001b[0m\u001b[0;34m(\u001b[0m\u001b[0mnum_teams\u001b[0m \u001b[0;34m+\u001b[0m \u001b[0;36m3\u001b[0m\u001b[0;34m,\u001b[0m \u001b[0;36m0\u001b[0m\u001b[0;34m)\u001b[0m\u001b[0;34m)\u001b[0m\u001b[0;34m\u001b[0m\u001b[0m\n\u001b[0m\u001b[1;32m     24\u001b[0m     \u001b[0mpromoted_this_year\u001b[0m\u001b[0;34m.\u001b[0m\u001b[0mappend\u001b[0m\u001b[0;34m(\u001b[0m\u001b[0mstats_sheets\u001b[0m\u001b[0;34m[\u001b[0m\u001b[0mm\u001b[0m\u001b[0;34m]\u001b[0m\u001b[0;34m.\u001b[0m\u001b[0mcell_value\u001b[0m\u001b[0;34m(\u001b[0m\u001b[0mnum_teams\u001b[0m \u001b[0;34m+\u001b[0m \u001b[0;36m4\u001b[0m\u001b[0;34m,\u001b[0m \u001b[0;36m0\u001b[0m\u001b[0;34m)\u001b[0m\u001b[0;34m)\u001b[0m\u001b[0;34m\u001b[0m\u001b[0m\n\u001b[1;32m     25\u001b[0m     \u001b[0mpromoted_this_year\u001b[0m\u001b[0;34m.\u001b[0m\u001b[0mappend\u001b[0m\u001b[0;34m(\u001b[0m\u001b[0mstats_sheets\u001b[0m\u001b[0;34m[\u001b[0m\u001b[0mm\u001b[0m\u001b[0;34m]\u001b[0m\u001b[0;34m.\u001b[0m\u001b[0mcell_value\u001b[0m\u001b[0;34m(\u001b[0m\u001b[0mnum_teams\u001b[0m \u001b[0;34m+\u001b[0m \u001b[0;36m5\u001b[0m\u001b[0;34m,\u001b[0m \u001b[0;36m0\u001b[0m\u001b[0;34m)\u001b[0m\u001b[0;34m)\u001b[0m\u001b[0;34m\u001b[0m\u001b[0m\n",
      "\u001b[0;32m/anaconda3/envs/nlu/lib/python3.6/site-packages/xlrd/sheet.py\u001b[0m in \u001b[0;36mcell_value\u001b[0;34m(self, rowx, colx)\u001b[0m\n\u001b[1;32m    413\u001b[0m     \u001b[0;32mdef\u001b[0m \u001b[0mcell_value\u001b[0m\u001b[0;34m(\u001b[0m\u001b[0mself\u001b[0m\u001b[0;34m,\u001b[0m \u001b[0mrowx\u001b[0m\u001b[0;34m,\u001b[0m \u001b[0mcolx\u001b[0m\u001b[0;34m)\u001b[0m\u001b[0;34m:\u001b[0m\u001b[0;34m\u001b[0m\u001b[0m\n\u001b[1;32m    414\u001b[0m         \u001b[0;34m\"Value of the cell in the given row and column.\"\u001b[0m\u001b[0;34m\u001b[0m\u001b[0m\n\u001b[0;32m--> 415\u001b[0;31m         \u001b[0;32mreturn\u001b[0m \u001b[0mself\u001b[0m\u001b[0;34m.\u001b[0m\u001b[0m_cell_values\u001b[0m\u001b[0;34m[\u001b[0m\u001b[0mrowx\u001b[0m\u001b[0;34m]\u001b[0m\u001b[0;34m[\u001b[0m\u001b[0mcolx\u001b[0m\u001b[0;34m]\u001b[0m\u001b[0;34m\u001b[0m\u001b[0m\n\u001b[0m\u001b[1;32m    416\u001b[0m \u001b[0;34m\u001b[0m\u001b[0m\n\u001b[1;32m    417\u001b[0m     \u001b[0;32mdef\u001b[0m \u001b[0mcell_type\u001b[0m\u001b[0;34m(\u001b[0m\u001b[0mself\u001b[0m\u001b[0;34m,\u001b[0m \u001b[0mrowx\u001b[0m\u001b[0;34m,\u001b[0m \u001b[0mcolx\u001b[0m\u001b[0;34m)\u001b[0m\u001b[0;34m:\u001b[0m\u001b[0;34m\u001b[0m\u001b[0m\n",
      "\u001b[0;31mIndexError\u001b[0m: list index out of range"
     ]
    }
   ],
   "source": [
    "# stats_this_year = {}\n",
    "# teams_this_year = []\n",
    "# promoted_this_year = []\n",
    "# relegated_this_year = []\n",
    "for m in range(0, num_stats_sheets):\n",
    "    stats_this_year = {}\n",
    "    teams_this_year = []\n",
    "    promoted_this_year = []\n",
    "    relegated_this_year = []\n",
    "    for i in range(1, num_teams + 1):\n",
    "        team = stats_sheets[m].cell_value(i, 0)\n",
    "        print(team)\n",
    "        teams_this_year.append(team)\n",
    "        stats_this_year[team] = []\n",
    "        for j in range(1, num_parameters + 1):\n",
    "            stats_this_year[team].append(stats_sheets[m].cell_value(i, j))\n",
    "            \n",
    "    relegated_this_year.append(teams_this_year[num_teams - 3])\n",
    "    relegated_this_year.append(teams_this_year[num_teams - 2])\n",
    "    relegated_this_year.append(teams_this_year[num_teams - 1])\n",
    "\n",
    "#     print(stats_she)\n",
    "    promoted_this_year.append(stats_sheets[m].cell_value(num_teams + 3, 0))\n",
    "    promoted_this_year.append(stats_sheets[m].cell_value(num_teams + 4, 0))\n",
    "    promoted_this_year.append(stats_sheets[m].cell_value(num_teams + 5, 0))\n",
    "\n",
    "    stats_by_season.append(stats_this_year)\n",
    "    teams_per_season.append(teams_this_year)\n",
    "    print(promoted_this_year)\n",
    "    promoted_per_season.append(promoted_this_year)\n",
    "    relegated_per_season.append(relegated_this_year)\n",
    "    # print(teams_this_year)\n",
    "#print(teams_per_season[0])\n",
    "print(promoted_per_season)"
   ]
  },
  {
   "cell_type": "code",
   "execution_count": 8,
   "metadata": {},
   "outputs": [
    {
     "ename": "IndexError",
     "evalue": "list index out of range",
     "output_type": "error",
     "traceback": [
      "\u001b[0;31m---------------------------------------------------------------------------\u001b[0m",
      "\u001b[0;31mIndexError\u001b[0m                                Traceback (most recent call last)",
      "\u001b[0;32m<ipython-input-8-3c726103dc69>\u001b[0m in \u001b[0;36m<module>\u001b[0;34m()\u001b[0m\n\u001b[1;32m      1\u001b[0m \u001b[0;31m# get promoted teams from 2010/11 (no other info on this sheet, so has to be hard-coded in)\u001b[0m\u001b[0;34m\u001b[0m\u001b[0;34m\u001b[0m\u001b[0m\n\u001b[1;32m      2\u001b[0m \u001b[0;34m\u001b[0m\u001b[0m\n\u001b[0;32m----> 3\u001b[0;31m \u001b[0mstats_1011_sheet\u001b[0m \u001b[0;34m=\u001b[0m \u001b[0mwb\u001b[0m\u001b[0;34m.\u001b[0m\u001b[0msheet_by_index\u001b[0m\u001b[0;34m(\u001b[0m\u001b[0;36m13\u001b[0m\u001b[0;34m)\u001b[0m\u001b[0;34m\u001b[0m\u001b[0m\n\u001b[0m\u001b[1;32m      4\u001b[0m \u001b[0mtitle\u001b[0m \u001b[0;34m=\u001b[0m \u001b[0mstats_1011_sheet\u001b[0m\u001b[0;34m.\u001b[0m\u001b[0mcell_value\u001b[0m\u001b[0;34m(\u001b[0m\u001b[0;36m0\u001b[0m\u001b[0;34m,\u001b[0m \u001b[0;36m0\u001b[0m\u001b[0;34m)\u001b[0m\u001b[0;34m\u001b[0m\u001b[0m\n\u001b[1;32m      5\u001b[0m \u001b[0mpromoted_1011\u001b[0m \u001b[0;34m=\u001b[0m \u001b[0;34m[\u001b[0m\u001b[0;34m]\u001b[0m\u001b[0;34m\u001b[0m\u001b[0m\n",
      "\u001b[0;32m/anaconda3/envs/nlu/lib/python3.6/site-packages/xlrd/book.py\u001b[0m in \u001b[0;36msheet_by_index\u001b[0;34m(self, sheetx)\u001b[0m\n\u001b[1;32m    460\u001b[0m         \u001b[0;34m:\u001b[0m\u001b[0mreturns\u001b[0m\u001b[0;34m:\u001b[0m \u001b[0mA\u001b[0m \u001b[0;34m:\u001b[0m\u001b[0;32mclass\u001b[0m\u001b[0;34m:\u001b[0m\u001b[0;31m`\u001b[0m\u001b[0;34m~\u001b[0m\u001b[0mxlrd\u001b[0m\u001b[0;34m.\u001b[0m\u001b[0msheet\u001b[0m\u001b[0;34m.\u001b[0m\u001b[0mSheet\u001b[0m\u001b[0;31m`\u001b[0m\u001b[0;34m.\u001b[0m\u001b[0;34m\u001b[0m\u001b[0m\n\u001b[1;32m    461\u001b[0m         \"\"\"\n\u001b[0;32m--> 462\u001b[0;31m         \u001b[0;32mreturn\u001b[0m \u001b[0mself\u001b[0m\u001b[0;34m.\u001b[0m\u001b[0m_sheet_list\u001b[0m\u001b[0;34m[\u001b[0m\u001b[0msheetx\u001b[0m\u001b[0;34m]\u001b[0m \u001b[0;32mor\u001b[0m \u001b[0mself\u001b[0m\u001b[0;34m.\u001b[0m\u001b[0mget_sheet\u001b[0m\u001b[0;34m(\u001b[0m\u001b[0msheetx\u001b[0m\u001b[0;34m)\u001b[0m\u001b[0;34m\u001b[0m\u001b[0m\n\u001b[0m\u001b[1;32m    463\u001b[0m \u001b[0;34m\u001b[0m\u001b[0m\n\u001b[1;32m    464\u001b[0m     \u001b[0;32mdef\u001b[0m \u001b[0msheet_by_name\u001b[0m\u001b[0;34m(\u001b[0m\u001b[0mself\u001b[0m\u001b[0;34m,\u001b[0m \u001b[0msheet_name\u001b[0m\u001b[0;34m)\u001b[0m\u001b[0;34m:\u001b[0m\u001b[0;34m\u001b[0m\u001b[0m\n",
      "\u001b[0;31mIndexError\u001b[0m: list index out of range"
     ]
    }
   ],
   "source": [
    "# get promoted teams from 2010/11 (no other info on this sheet, so has to be hard-coded in)\n",
    "\n",
    "stats_1011_sheet = wb.sheet_by_index(13)\n",
    "title = stats_1011_sheet.cell_value(0, 0)\n",
    "promoted_1011 = []\n",
    "for i in range(1, 4):\n",
    "    team = stats_1011_sheet.cell_value(i, 0)\n",
    "    promoted_1011.append(team.strip())\n",
    "promoted_per_season.append(promoted_1011)"
   ]
  },
  {
   "cell_type": "code",
   "execution_count": null,
   "metadata": {},
   "outputs": [],
   "source": [
    "# create latest test data\n",
    "fixtures_1819_sheet = wb.sheet_by_index(14)\n",
    "fixtures_1819 = []\n",
    "stats_1718 = stats_by_season[0] # 1718 stats\n",
    "\n",
    "for i in range(1, 41):\n",
    "    home_team = fixtures_1819_sheet.cell_value(i, 1)\n",
    "    away_team = fixtures_1819_sheet.cell_value(i, 2)\n",
    "    if home_team in stats_1718.keys():\n",
    "        home_stats = stats_1718[home_team]\n",
    "    else:\n",
    "        promoted_index = promoted_per_season[0].index(home_team)\n",
    "        print(promoted_index)\n",
    "        promoted_team = promoted_per_season[1][promoted_index] # out of bounds error?\n",
    "        print(promoted_per_season[1])\n",
    "        print(promoted_team)\n",
    "        home_stats = stats_1718[promoted_team]\n",
    "    if away_team in stats_1718.keys():\n",
    "        away_stats = stats_1718[away_team]\n",
    "    else:\n",
    "        print(\"looking for: \", away_team)\n",
    "        print(promoted_per_season[1])\n",
    "        print(promoted_per_season[0])\n",
    "        promoted_index = promoted_per_season[0].index(away_team)\n",
    "        print(promoted_index)\n",
    "        promoted_team = promoted_per_season[1][promoted_index] # out of bounds error?\n",
    "        print(promoted_team)\n",
    "        away_stats = stats_1718[promoted_team]\n",
    "    instance = []\n",
    "    for k in range (0, len(home_stats)):\n",
    "        if (away_stats[k] == 0):\n",
    "            ratio = (home_stats[k] + 1) / (away_stats[k] + 1)\n",
    "        else:\n",
    "            ratio = home_stats[k] / away_stats[k]\n",
    "#           ratio = home_stats[k] - away_stats[k]\n",
    "        instance.append(ratio)\n",
    "    fixtures_1819.append(instance)\n",
    "    \n",
    "print(fixtures_1819)\n"
   ]
  },
  {
   "cell_type": "code",
   "execution_count": null,
   "metadata": {},
   "outputs": [],
   "source": [
    "score_sheets = []\n",
    "for i in range(num_stats_sheets, num_total_sheets):\n",
    "    score_sheets.append(wb.sheet_by_index(i))\n"
   ]
  },
  {
   "cell_type": "code",
   "execution_count": null,
   "metadata": {},
   "outputs": [],
   "source": [
    "all_results = []\n",
    "all_stats = []\n",
    "all_outcomes = []\n",
    "stats_pairs_by_season = []\n",
    "outcomes_by_season = []\n",
    "\n",
    "for i in range (0 , 6):\n",
    "    results = {}\n",
    "    wins = 0\n",
    "    losses = 0\n",
    "    draws = 0\n",
    "    for j in range (1, num_teams * (num_teams - 1) + 1):\n",
    "        home_team = score_sheets[i].cell_value(j, 1).strip()\n",
    "        away_team = score_sheets[i].cell_value(j, 2).strip()\n",
    "        result = score_sheets[i].cell_value(j, 5)\n",
    "        \n",
    "        if result == \"W\":\n",
    "            wins +=1 \n",
    "            results[(home_team, away_team)] = 1\n",
    "        elif result == \"L\":\n",
    "            losses+=1\n",
    "            results[(home_team, away_team)] = -1\n",
    "        else:\n",
    "            draws+=1\n",
    "            results[(home_team, away_team)] = 0\n",
    "    all_results.append(results)\n",
    "    stats = []\n",
    "    outcomes = []\n",
    "    counter = 0\n",
    "    for key in results.keys():\n",
    "        counter = counter + 1\n",
    "        # each home-away pair for that season\n",
    "        home_team = key[0].strip()\n",
    "        away_team = key[1].strip()\n",
    "        prev_season_stats = stats_by_season[i + 1]\n",
    "        if home_team in prev_season_stats.keys():\n",
    "            home_stats = prev_season_stats[home_team]\n",
    "        else:\n",
    "            promoted_index = promoted_per_season[i+1].index(home_team)\n",
    "            promoted_team = promoted_per_season[i+2][promoted_index] # out of bounds error?\n",
    "            home_stats = prev_season_stats[promoted_team]\n",
    "        if away_team in prev_season_stats.keys():\n",
    "            away_stats = prev_season_stats[away_team]\n",
    "        else:\n",
    "            promoted_index = promoted_per_season[i + 1].index(away_team)\n",
    "            promoted_team = promoted_per_season[i + 2][promoted_index] # out of bounds error?\n",
    "            away_stats = prev_season_stats[promoted_team]\n",
    "        instance = []\n",
    "        for k in range (0, len(home_stats)):\n",
    "            if (away_stats[k] == 0):\n",
    "                ratio = (home_stats[k] + 1) / (away_stats[k] + 1)\n",
    "            else:\n",
    "                ratio = home_stats[k] / away_stats[k]\n",
    "#             ratio = home_stats[k] - away_stats[k]\n",
    "            instance.append(ratio)\n",
    "        outcome = results[(home_team, away_team)]\n",
    "        if (outcome !=0):\n",
    "            stats.append(instance)\n",
    "            all_stats.append(instance)\n",
    "            outcomes.append(outcome)\n",
    "            all_outcomes.append(outcome)\n",
    "    stats_pairs_by_season.append(stats)\n",
    "    outcomes_by_season.append(outcomes)\n",
    "    print(wins, losses, draws, draws/(wins+losses+draws))\n",
    "print(len(all_stats))\n",
    "print(len(all_outcomes))\n",
    "print(all_outcomes)\n",
    "              "
   ]
  },
  {
   "cell_type": "code",
   "execution_count": null,
   "metadata": {},
   "outputs": [],
   "source": [
    "num_classes = 2\n",
    "x_train, x_test, y_train, y_test = train_test_split(all_stats, all_outcomes, test_size = 0.3)\n",
    "x_train, x_val, y_train, y_val = train_test_split(x_train, y_train, test_size = 0.2)\n",
    "\n",
    "num_records = len(x_train)\n",
    "num_features = len(x_train[0])\n",
    "\n",
    "\n",
    "print(\"Training Feature matrix being passed into neural network has \" + str(num_records) + \n",
    "      \" vectors and \" + str(num_features) + \" parameters. \")"
   ]
  },
  {
   "cell_type": "code",
   "execution_count": null,
   "metadata": {},
   "outputs": [],
   "source": [
    "def fit_maxent_classifier(X, y, testFeatureVectors): \n",
    "    mod = LogisticRegression(fit_intercept=True, multi_class = 'multinomial', solver = 'newton-cg')\n",
    "    mod.fit(X, y)\n",
    "    pred = mod.predict(testFeatureVectors)\n",
    "    # print(pred)\n",
    "    return pred"
   ]
  },
  {
   "cell_type": "code",
   "execution_count": 13,
   "metadata": {},
   "outputs": [
    {
     "ename": "NameError",
     "evalue": "name 'fit_maxent_classifier' is not defined",
     "output_type": "error",
     "traceback": [
      "\u001b[0;31m---------------------------------------------------------------------------\u001b[0m",
      "\u001b[0;31mNameError\u001b[0m                                 Traceback (most recent call last)",
      "\u001b[0;32m<ipython-input-13-b8190002ee6e>\u001b[0m in \u001b[0;36m<module>\u001b[0;34m()\u001b[0m\n\u001b[0;32m----> 1\u001b[0;31m \u001b[0mpred\u001b[0m \u001b[0;34m=\u001b[0m \u001b[0mfit_maxent_classifier\u001b[0m\u001b[0;34m(\u001b[0m\u001b[0mx_train\u001b[0m\u001b[0;34m,\u001b[0m \u001b[0my_train\u001b[0m\u001b[0;34m,\u001b[0m \u001b[0mx_val\u001b[0m\u001b[0;34m)\u001b[0m\u001b[0;34m\u001b[0m\u001b[0m\n\u001b[0m\u001b[1;32m      2\u001b[0m \u001b[0;34m\u001b[0m\u001b[0m\n\u001b[1;32m      3\u001b[0m \u001b[0mtest_pred\u001b[0m \u001b[0;34m=\u001b[0m \u001b[0mfit_maxent_classifier\u001b[0m\u001b[0;34m(\u001b[0m\u001b[0mx_train\u001b[0m\u001b[0;34m,\u001b[0m \u001b[0my_train\u001b[0m\u001b[0;34m,\u001b[0m \u001b[0mx_test\u001b[0m\u001b[0;34m)\u001b[0m\u001b[0;34m\u001b[0m\u001b[0m\n\u001b[1;32m      4\u001b[0m \u001b[0;34m\u001b[0m\u001b[0m\n\u001b[1;32m      5\u001b[0m \u001b[0mpredict_1819\u001b[0m \u001b[0;34m=\u001b[0m \u001b[0mfit_maxent_classifier\u001b[0m\u001b[0;34m(\u001b[0m\u001b[0mx_train\u001b[0m\u001b[0;34m,\u001b[0m \u001b[0my_train\u001b[0m\u001b[0;34m,\u001b[0m \u001b[0mfixtures_1819\u001b[0m\u001b[0;34m)\u001b[0m\u001b[0;34m\u001b[0m\u001b[0m\n",
      "\u001b[0;31mNameError\u001b[0m: name 'fit_maxent_classifier' is not defined"
     ]
    }
   ],
   "source": [
    "pred = fit_maxent_classifier(x_train, y_train, x_val)\n",
    "\n",
    "test_pred = fit_maxent_classifier(x_train, y_train, x_test)\n",
    "\n",
    "predict_1819 = fit_maxent_classifier(x_train, y_train, fixtures_1819)\n",
    "print(predict_1819)\n",
    "print(len(predict_1819))\n",
    "for i in range(0, len(predict_1819)):\n",
    "    print(i+2, \": \", predict_1819[i])\n",
    "\n",
    "# print(y_val)\n",
    "\n",
    "correct = 0\n",
    "total = len(y_val)\n",
    "for i in range(0, len(y_val)):\n",
    "    if (y_val[i]==pred[i]):\n",
    "        correct+=1\n",
    "        \n",
    "print(correct)\n",
    "print(total)\n",
    "print(correct/total)\n",
    "\n",
    "\n",
    "correct = 0\n",
    "total = len(y_test)\n",
    "for i in range(0, len(y_test)):\n",
    "    if (y_test[i]==test_pred[i]):\n",
    "        correct+=1\n",
    "        \n",
    "print(correct)\n",
    "print(total)\n",
    "print(correct/total)"
   ]
  },
  {
   "cell_type": "code",
   "execution_count": null,
   "metadata": {},
   "outputs": [],
   "source": [
    "def keras_nn_classifier(learning_rate):\n",
    "    # create the model\n",
    "    model = Sequential()\n",
    "    \n",
    "    # add the layers\n",
    "    model.add(Dense(1000, input_dim = num_features, kernel_regularizer = regularizers.l2(0.1), activation = 'sigmoid')) # hidden layer\n",
    "    # model.add(Dropout(0.5))\n",
    "    # model.add(Dense(750, kernel_regularizer = regularizers.l2(0.01), activation = 'sigmoid')) # second hidden layer\n",
    "    #model.add(Dropout(0.3))\n",
    "    #model.add(Dense(300, activation = 'sigmoid')) # second hidden layer\n",
    "    # model.add(Dense(100, activation = 'sigmoid')) # second hidden layer\n",
    "    #model.add(Dense(25, activation = 'sigmoid')) # second hidden layer\n",
    "\n",
    "    model.add(Dense(num_classes, activation = 'softmax')) # output layer\n",
    "        \n",
    "    # optimizers\n",
    "    sgd = keras.optimizers.SGD(lr = learning_rate) # model doesn't learn \n",
    "    adam = keras.optimizers.Adam(lr = learning_rate)   \n",
    "    rmsprop = keras.optimizers.RMSprop(lr = learning_rate) \n",
    "    adagrad = keras.optimizers.Adagrad(lr = learning_rate) # bad\n",
    "    adadelta = keras.optimizers.Adadelta(lr = learning_rate) # bad\n",
    "    adamax = keras.optimizers.Adamax(lr = learning_rate) # not terrible, like 0.55\n",
    "    nadam = keras.optimizers.Nadam(lr = learning_rate) # pretty good, 0.58\n",
    "    \n",
    "    # compile model\n",
    "    model.compile(loss = keras.losses.categorical_crossentropy, optimizer = adam, metrics = ['accuracy'])\n",
    "    print(model.summary())\n",
    "    return model"
   ]
  },
  {
   "cell_type": "code",
   "execution_count": null,
   "metadata": {},
   "outputs": [],
   "source": [
    "\n",
    "#batch_size = 450\n",
    "# tune more hyperparameters\n",
    "epochs = 100\n",
    "learning_rate = 1e-2\n",
    "verb = 2\n",
    "model = keras_nn_classifier(learning_rate)\n",
    "# convert data into numpy arrays\n",
    "x_train = np.array(x_train)\n",
    "y_train = np.array(y_train)\n",
    "x_train = np.array(x_train)\n",
    "y_train = np.array(y_train)\n",
    "x_val = np.array(x_val)\n",
    "y_val = np.array(y_val)\n",
    "y_train = keras.utils.to_categorical(y_train, num_classes)\n",
    "y_val = keras.utils.to_categorical(y_val, num_classes)\n",
    "x_test = np.array(x_test)\n",
    "y_test = np.array(y_test)\n",
    "print(x_val.shape)\n",
    "print(y_val.shape)\n",
    "print(x_train.shape)\n",
    "print(y_train.shape)\n",
    "history = model.fit(x_train, y_train, \n",
    "                   epochs = epochs, validation_data = (x_val, y_val),\n",
    "                   verbose = verb, shuffle = True)\n",
    "pre = model.predict(x_test)\n",
    "print(pre)\n"
   ]
  },
  {
   "cell_type": "code",
   "execution_count": null,
   "metadata": {},
   "outputs": [],
   "source": [
    "plt.plot(history.history['loss'])\n",
    "plt.plot(history.history['val_loss'])\n",
    "plt.title('model loss')\n",
    "plt.ylabel('loss')\n",
    "plt.xlabel('epoch')\n",
    "plt.legend(['train', 'validation'], loc='upper left')\n",
    "plt.show()\n",
    "\n",
    "plt.plot(history.history['acc'])\n",
    "plt.plot(history.history['val_acc'])\n",
    "plt.title('model accuracy')\n",
    "plt.ylabel('accuracy')\n",
    "plt.xlabel('epoch')\n",
    "plt.legend(['train', 'validation'], loc='upper left')\n",
    "plt.show()"
   ]
  },
  {
   "cell_type": "code",
   "execution_count": null,
   "metadata": {},
   "outputs": [],
   "source": [
    "sum = 0.0\n",
    "for val in history.history['acc']:\n",
    "    sum+=val\n",
    "avg = sum/epochs\n",
    "print(\"Average Training Accuracy: \", avg)\n",
    "\n",
    "\n",
    "sum = 0.0\n",
    "for val in history.history['val_acc']:\n",
    "    sum+=val\n",
    "avg = sum/epochs\n",
    "print(\"Average Validation Accuracy: \", avg)\n",
    "\n",
    "print(\"Last Training Accuracy: \", history.history['acc'][epochs-1])\n",
    "print(\"Last Validation Accuracy: \", history.history['val_acc'][epochs-1])\n",
    "\n",
    "\n",
    "sum = 0.0\n",
    "for i in range (epochs-10, epochs):\n",
    "    sum+= history.history['val_acc'][i]\n",
    "avg = sum / 10.0\n",
    "print(\"Average of last 10 validation Accuracies: \", avg)"
   ]
  },
  {
   "cell_type": "code",
   "execution_count": null,
   "metadata": {},
   "outputs": [],
   "source": [
    "clf = RandomForestClassifier(n_jobs = 10, n_estimators = 100, max_features = num_features, max_depth = 15, \n",
    "                             min_samples_split = 100, min_samples_leaf = 30, min_weight_fraction_leaf = 0., \n",
    "                            max_leaf_nodes = 50, min_impurity_decrease = 0.001, bootstrap = True, \n",
    "                            oob_score = False, verbose = 0, criterion = \"gini\")\n",
    "clf.fit(x_train, y_train)\n",
    "predicted = clf.predict(x_val)\n",
    "correct = 0\n",
    "for i in range(0, len(predicted)):\n",
    "    if (y_val[i][0] == predicted[i][0]):\n",
    "        if (y_val[i][1] == predicted[i][1]):\n",
    "            #if (y_val[i][2] == predicted[i][2]):\n",
    "                correct+=1\n",
    "print(correct / len(predicted))\n",
    "print(correct)\n"
   ]
  },
  {
   "cell_type": "code",
   "execution_count": null,
   "metadata": {},
   "outputs": [],
   "source": [
    "def predictTestData():\n",
    "    print(model.predict(x_test))"
   ]
  },
  {
   "cell_type": "code",
   "execution_count": null,
   "metadata": {},
   "outputs": [],
   "source": [
    "predictTestData()"
   ]
  },
  {
   "cell_type": "code",
   "execution_count": null,
   "metadata": {},
   "outputs": [],
   "source": []
  }
 ],
 "metadata": {
  "kernelspec": {
   "display_name": "Python 3",
   "language": "python",
   "name": "python3"
  },
  "language_info": {
   "codemirror_mode": {
    "name": "ipython",
    "version": 3
   },
   "file_extension": ".py",
   "mimetype": "text/x-python",
   "name": "python",
   "nbconvert_exporter": "python",
   "pygments_lexer": "ipython3",
   "version": "3.6.4"
  }
 },
 "nbformat": 4,
 "nbformat_minor": 2
}
